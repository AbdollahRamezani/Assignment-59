{
  "cells": [
    {
      "cell_type": "code",
      "execution_count": 1,
      "metadata": {
        "id": "gAOtTEhrYTos"
      },
      "outputs": [],
      "source": [
        "import tensorflow as tf"
      ]
    },
    {
      "cell_type": "code",
      "execution_count": 2,
      "metadata": {
        "colab": {
          "base_uri": "https://localhost:8080/"
        },
        "id": "VAg7n5WiZWQ5",
        "outputId": "951992aa-dff8-4075-ebe0-c45a993b795b"
      },
      "outputs": [
        {
          "name": "stdout",
          "output_type": "stream",
          "text": [
            "Found 1708 files belonging to 20 classes.\n",
            "Using 1367 files for training.\n",
            "Found 1708 files belonging to 20 classes.\n",
            "Using 341 files for validation.\n"
          ]
        }
      ],
      "source": [
        "dataset_path = \"/content/drive/MyDrive/Dataset/Audio/dataset\"\n",
        "\n",
        "train_data = tf.keras.utils.audio_dataset_from_directory(\n",
        "    dataset_path,\n",
        "    batch_size=4,\n",
        "    shuffle=True,\n",
        "    validation_split=0.2,\n",
        "    subset=\"training\",\n",
        "    output_sequence_length=48000,  \n",
        "    ragged=False, \n",
        "    label_mode=\"categorical\",  \n",
        "    labels=\"inferred\", \n",
        "    sampling_rate=None,  \n",
        "    seed=59 \n",
        ")\n",
        "\n",
        "validation_data = tf.keras.utils.audio_dataset_from_directory(\n",
        "    dataset_path,\n",
        "    batch_size=4,\n",
        "    shuffle=True,\n",
        "    validation_split=0.2,\n",
        "    subset=\"validation\",\n",
        "    output_sequence_length=48000,  \n",
        "    ragged=False, \n",
        "    label_mode=\"categorical\",  \n",
        "    labels=\"inferred\", \n",
        "    sampling_rate=None, \n",
        "    seed=59"
      ]
    },
    {
      "cell_type": "code",
      "execution_count": 3,
      "metadata": {
        "id": "glapiQDFRjWs"
      },
      "outputs": [],
      "source": [
        "model = tf.keras.models.Sequential([\n",
        "    tf.keras.layers.Conv1D(32, kernel_size=80, strides=16, activation=\"relu\", input_shape=(48000, 1)),\n",
        "    tf.keras.layers.MaxPooling1D(4),\n",
        "    tf.keras.layers.Conv1D(32, kernel_size=3, activation=\"relu\"),\n",
        "    tf.keras.layers.MaxPooling1D(4),\n",
        "    tf.keras.layers.Conv1D(64, kernel_size=3, activation=\"relu\"),\n",
        "    tf.keras.layers.MaxPooling1D(4),\n",
        "    tf.keras.layers.Conv1D(64, kernel_size=3, activation=\"relu\"),\n",
        "    tf.keras.layers.MaxPooling1D(4),\n",
        "\n",
        "    tf.keras.layers.Flatten(),\n",
        "    tf.keras.layers.Dense(20, activation=\"softmax\"), \n",
        "])"
      ]
    },
    {
      "cell_type": "code",
      "execution_count": 4,
      "metadata": {
        "colab": {
          "base_uri": "https://localhost:8080/"
        },
        "id": "EiS7Fm-6ZoAu",
        "outputId": "a7e3711b-3f6f-4791-9943-71cd5f2bed25"
      },
      "outputs": [
        {
          "name": "stdout",
          "output_type": "stream",
          "text": [
            "Model: \"sequential\"\n",
            "_________________________________________________________________\n",
            " Layer (type)                Output Shape              Param #   \n",
            "=================================================================\n",
            " conv1d (Conv1D)             (None, 2996, 32)          2592      \n",
            "                                                                 \n",
            " max_pooling1d (MaxPooling1  (None, 749, 32)           0         \n",
            " D)                                                              \n",
            "                                                                 \n",
            " conv1d_1 (Conv1D)           (None, 747, 32)           3104      \n",
            "                                                                 \n",
            " max_pooling1d_1 (MaxPoolin  (None, 186, 32)           0         \n",
            " g1D)                                                            \n",
            "                                                                 \n",
            " conv1d_2 (Conv1D)           (None, 184, 64)           6208      \n",
            "                                                                 \n",
            " max_pooling1d_2 (MaxPoolin  (None, 46, 64)            0         \n",
            " g1D)                                                            \n",
            "                                                                 \n",
            " conv1d_3 (Conv1D)           (None, 44, 64)            12352     \n",
            "                                                                 \n",
            " max_pooling1d_3 (MaxPoolin  (None, 11, 64)            0         \n",
            " g1D)                                                            \n",
            "                                                                 \n",
            " flatten (Flatten)           (None, 704)               0         \n",
            "                                                                 \n",
            " dense (Dense)               (None, 20)                14100     \n",
            "                                                                 \n",
            "=================================================================\n",
            "Total params: 38356 (149.83 KB)\n",
            "Trainable params: 38356 (149.83 KB)\n",
            "Non-trainable params: 0 (0.00 Byte)\n",
            "_________________________________________________________________\n"
          ]
        }
      ],
      "source": [
        "model.summary()"
      ]
    },
    {
      "cell_type": "code",
      "execution_count": 5,
      "metadata": {
        "id": "tPQAY1W-Zqnu"
      },
      "outputs": [],
      "source": [
        "model.compile(\n",
        "    optimizer=tf.keras.optimizers.Adam(),\n",
        "    loss=\"categorical_crossentropy\",\n",
        "    metrics=[\"accuracy\"]\n",
        ")"
      ]
    },
    {
      "cell_type": "code",
      "execution_count": 6,
      "metadata": {
        "colab": {
          "base_uri": "https://localhost:8080/"
        },
        "id": "5hx2UqUlbBTD",
        "outputId": "a06a0f9c-3baa-4d78-8b31-a2547ca4deb3"
      },
      "outputs": [
        {
          "name": "stdout",
          "output_type": "stream",
          "text": [
            "Epoch 1/20\n",
            "342/342 [==============================] - 292s 824ms/step - loss: 2.4288 - accuracy: 0.2224 - val_loss: 1.7894 - val_accuracy: 0.3871\n",
            "Epoch 2/20\n",
            "342/342 [==============================] - 4s 13ms/step - loss: 1.3008 - accuracy: 0.5779 - val_loss: 1.3401 - val_accuracy: 0.6129\n",
            "Epoch 3/20\n",
            "342/342 [==============================] - 4s 11ms/step - loss: 0.8474 - accuracy: 0.7418 - val_loss: 0.9677 - val_accuracy: 0.6950\n",
            "Epoch 4/20\n",
            "342/342 [==============================] - 6s 17ms/step - loss: 0.6736 - accuracy: 0.7886 - val_loss: 1.0737 - val_accuracy: 0.6540\n",
            "Epoch 5/20\n",
            "342/342 [==============================] - 4s 10ms/step - loss: 0.4875 - accuracy: 0.8369 - val_loss: 1.3926 - val_accuracy: 0.6657\n",
            "Epoch 6/20\n",
            "342/342 [==============================] - 5s 15ms/step - loss: 0.3681 - accuracy: 0.8903 - val_loss: 0.6127 - val_accuracy: 0.8152\n",
            "Epoch 7/20\n",
            "342/342 [==============================] - 5s 13ms/step - loss: 0.3322 - accuracy: 0.8859 - val_loss: 0.9899 - val_accuracy: 0.7067\n",
            "Epoch 8/20\n",
            "342/342 [==============================] - 4s 11ms/step - loss: 0.2720 - accuracy: 0.9217 - val_loss: 0.7489 - val_accuracy: 0.7742\n",
            "Epoch 9/20\n",
            "342/342 [==============================] - 5s 15ms/step - loss: 0.2452 - accuracy: 0.9305 - val_loss: 0.7497 - val_accuracy: 0.7889\n",
            "Epoch 10/20\n",
            "342/342 [==============================] - 5s 14ms/step - loss: 0.1704 - accuracy: 0.9495 - val_loss: 1.0380 - val_accuracy: 0.7742\n",
            "Epoch 11/20\n",
            "342/342 [==============================] - 4s 13ms/step - loss: 0.1806 - accuracy: 0.9451 - val_loss: 0.6235 - val_accuracy: 0.8328\n",
            "Epoch 12/20\n",
            "342/342 [==============================] - 5s 15ms/step - loss: 0.2572 - accuracy: 0.9225 - val_loss: 0.6746 - val_accuracy: 0.8065\n",
            "Epoch 13/20\n",
            "342/342 [==============================] - 4s 11ms/step - loss: 0.2296 - accuracy: 0.9364 - val_loss: 0.7642 - val_accuracy: 0.7977\n",
            "Epoch 14/20\n",
            "342/342 [==============================] - 5s 15ms/step - loss: 0.1460 - accuracy: 0.9642 - val_loss: 0.6256 - val_accuracy: 0.8358\n",
            "Epoch 15/20\n",
            "342/342 [==============================] - 5s 13ms/step - loss: 0.1293 - accuracy: 0.9612 - val_loss: 0.6394 - val_accuracy: 0.8328\n",
            "Epoch 16/20\n",
            "342/342 [==============================] - 4s 13ms/step - loss: 0.1390 - accuracy: 0.9627 - val_loss: 1.1176 - val_accuracy: 0.7625\n",
            "Epoch 17/20\n",
            "342/342 [==============================] - 5s 13ms/step - loss: 0.1331 - accuracy: 0.9546 - val_loss: 0.6403 - val_accuracy: 0.8387\n",
            "Epoch 18/20\n",
            "342/342 [==============================] - 5s 15ms/step - loss: 0.0482 - accuracy: 0.9854 - val_loss: 0.6079 - val_accuracy: 0.8358\n",
            "Epoch 19/20\n",
            "342/342 [==============================] - 4s 11ms/step - loss: 0.0338 - accuracy: 0.9898 - val_loss: 0.6758 - val_accuracy: 0.8563\n",
            "Epoch 20/20\n",
            "342/342 [==============================] - 4s 11ms/step - loss: 0.3462 - accuracy: 0.9188 - val_loss: 0.5613 - val_accuracy: 0.8299\n"
          ]
        },
        {
          "data": {
            "text/plain": [
              "<keras.src.callbacks.History at 0x7cdba2777a00>"
            ]
          },
          "execution_count": 6,
          "metadata": {},
          "output_type": "execute_result"
        }
      ],
      "source": [
        "model.fit(\n",
        "    train_data,\n",
        "    validation_data=validation_data,\n",
        "    epochs=20\n",
        ")"
      ]
    },
    {
      "cell_type": "code",
      "execution_count": 7,
      "metadata": {
        "colab": {
          "base_uri": "https://localhost:8080/"
        },
        "id": "lOwsYJAqTLMo",
        "outputId": "28471b47-9ff8-4af0-b475-a845d11db3cf"
      },
      "outputs": [
        {
          "name": "stderr",
          "output_type": "stream",
          "text": [
            "/usr/local/lib/python3.10/dist-packages/keras/src/engine/training.py:3103: UserWarning: You are saving your model as an HDF5 file via `model.save()`. This file format is considered legacy. We recommend using instead the native Keras format, e.g. `model.save('my_model.keras')`.\n",
            "  saving_api.save_model(\n"
          ]
        }
      ],
      "source": [
        "model.save(\"/content/drive/MyDrive/Saved_Models/audio_classification.h5\")"
      ]
    }
  ],
  "metadata": {
    "accelerator": "GPU",
    "colab": {
      "gpuType": "T4",
      "provenance": []
    },
    "kernelspec": {
      "display_name": "Python 3",
      "name": "python3"
    },
    "language_info": {
      "name": "python"
    }
  },
  "nbformat": 4,
  "nbformat_minor": 0
}
