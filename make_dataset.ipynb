{
  "cells": [
    {
      "cell_type": "code",
      "execution_count": 2,
      "metadata": {
        "id": "TSHOEEllRFxS"
      },
      "outputs": [],
      "source": [
        "!pip install -q pydub"
      ]
    },
    {
      "cell_type": "code",
      "execution_count": 35,
      "metadata": {
        "id": "DcAT8HEhRWsA"
      },
      "outputs": [],
      "source": [
        "import os\n",
        "import pydub\n",
        "import matplotlib.pyplot as plt\n"
      ]
    },
    {
      "cell_type": "code",
      "execution_count": 10,
      "metadata": {
        "colab": {
          "base_uri": "https://localhost:8080/"
        },
        "id": "24_Anxr0p5W_",
        "outputId": "0316e310-94a1-46f5-edc8-663a6da17ec9"
      },
      "outputs": [
        {
          "data": {
            "text/plain": [
              "<_io.BufferedRandom name='/content/drive/MyDrive/Dataset/Audio/data/Khadijeh.ogg'>"
            ]
          },
          "execution_count": 10,
          "metadata": {},
          "output_type": "execute_result"
        }
      ],
      "source": [
        "voice_1 = pydub.AudioSegment.from_file(\"/content/drive/MyDrive/Dataset/Audio/raw_data/Khadijeh_1.ogg\")\n",
        "voice_2 = pydub.AudioSegment.from_file(\"/content/drive/MyDrive/Dataset/Audio/raw_data/Khadijeh_2.ogg\")\n",
        "\n",
        "result = voice_1 + voice_2\n",
        "\n",
        "result.export(\"/content/drive/MyDrive/Dataset/Audio/data/Khadijeh.ogg\")"
      ]
    },
    {
      "cell_type": "code",
      "execution_count": 11,
      "metadata": {
        "colab": {
          "base_uri": "https://localhost:8080/"
        },
        "id": "PFw6Y0HgsdND",
        "outputId": "97a1cc5e-2c6e-4c93-befe-095afa50a1a2"
      },
      "outputs": [
        {
          "data": {
            "text/plain": [
              "<_io.BufferedRandom name='/content/drive/MyDrive/Dataset/Audio/data/Parsa.ogg'>"
            ]
          },
          "execution_count": 11,
          "metadata": {},
          "output_type": "execute_result"
        }
      ],
      "source": [
        "voice_1 = pydub.AudioSegment.from_file(\"/content/drive/MyDrive/Dataset/Audio/raw_data/Parsa_1.ogg\")\n",
        "voice_2 = pydub.AudioSegment.from_file(\"/content/drive/MyDrive/Dataset/Audio/raw_data/Parsa_2.ogg\")\n",
        "\n",
        "result = voice_1 + voice_2\n",
        "\n",
        "result.export(\"/content/drive/MyDrive/Dataset/Audio/data/Parsa.ogg\")"
      ]
    },
    {
      "cell_type": "code",
      "execution_count": 12,
      "metadata": {
        "colab": {
          "base_uri": "https://localhost:8080/"
        },
        "id": "Zug9SyxUt9NI",
        "outputId": "746d0ea6-11ea-41d2-fac3-31ff9646ee3f"
      },
      "outputs": [
        {
          "data": {
            "text/plain": [
              "<_io.BufferedRandom name='/content/drive/MyDrive/Dataset/Audio/data/Mona.ogg'>"
            ]
          },
          "execution_count": 12,
          "metadata": {},
          "output_type": "execute_result"
        }
      ],
      "source": [
        "voice = pydub.AudioSegment.from_file('/content/drive/MyDrive/Dataset/Audio/raw_data/Mona.m4a')\n",
        "voice.export(\"/content/drive/MyDrive/Dataset/Audio/data/Mona.ogg\")"
      ]
    },
    {
      "cell_type": "code",
      "execution_count": null,
      "metadata": {
        "id": "y-THYNb__XWi"
      },
      "outputs": [],
      "source": [
        "files = os.listdir(\"/content/drive/MyDrive/Dataset/Audio/data\")\n",
        "\n",
        "for file in files:\n",
        "  audio = pydub.AudioSegment.from_file(os.path.join(\"/content/drive/MyDrive/Dataset/Audio/data\", file))\n",
        "\n",
        "\n",
        "  chunks = pydub.silence.split_on_silence(audio, min_silence_len=2000, silence_thresh=-45)\n",
        "  result = sum(chunks)\n",
        "  file_name = file.split(\".\")[0] \n",
        "  result.export(\"/content/drive/MyDrive/Dataset/Audio/wav_data/\"+file_name+\".wav\") "
      ]
    },
    {
      "cell_type": "code",
      "execution_count": 46,
      "metadata": {
        "id": "ltCnMBRoMWcE"
      },
      "outputs": [],
      "source": [
        "wav_data_path = \"/content/drive/MyDrive/Dataset/Audio/wav_data\"\n",
        "\n",
        "for file in os.listdir(wav_data_path):\n",
        "  audio = pydub.AudioSegment.from_file(os.path.join(wav_data_path, file))\n",
        "\n",
        "  person_name = file.split(\".\")[0]\n",
        "  os.makedirs(os.path.join(\"/content/drive/MyDrive/Dataset/Audio/dataset\", person_name), exist_ok=True) \n",
        "  \n",
        "\n",
        "  chunks = pydub.utils.make_chunks(audio, 1000) \n",
        "  for i, chunk in enumerate(chunks):\n",
        "    if len(chunk) >= 1000:\n",
        "      chunk.export(os.path.join(\"/content/drive/MyDrive/Dataset/Audio/dataset\", person_name, f\"voice{i}.wav\"))\n",
        "\n"
      ]
    }
  ],
  "metadata": {
    "accelerator": "GPU",
    "colab": {
      "gpuType": "T4",
      "provenance": []
    },
    "kernelspec": {
      "display_name": "Python 3",
      "name": "python3"
    },
    "language_info": {
      "name": "python"
    }
  },
  "nbformat": 4,
  "nbformat_minor": 0
}
